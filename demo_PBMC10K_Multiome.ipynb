{
 "cells": [
  {
   "cell_type": "markdown",
   "id": "eae20041",
   "metadata": {},
   "source": [
    "# PBMC10K Multiome"
   ]
  },
  {
   "cell_type": "code",
   "execution_count": 1,
   "id": "4226f8ae",
   "metadata": {},
   "outputs": [],
   "source": [
    "import numpy as np\n",
    "import polars as pl\n",
    "import snapatac2 as snap  \n",
    "import pandas as pd\n",
    "import scanpy as sc\n",
    "from scipy.sparse import csr_matrix\n",
    "from scipy import sparse\n",
    "import scipy.io\n",
    "import os\n",
    "import anndata as ad # Anndata version must > 0.8\n",
    "import numpy as np\n",
    "import matplotlib.pyplot as plt\n",
    "import seaborn as sns\n",
    "sns.set_theme(style='white')\n",
    "\n",
    "import scATAnno\n",
    "from scATAnno.SnapATAC2_spectral import *\n",
    "from scATAnno.SnapATAC2_tools import *\n",
    "from scATAnno.SnapATAC2_utils import *\n",
    "from scATAnno import scATAnno_preprocess\n",
    "from scATAnno import scATAnno_assignment\n",
    "from scATAnno import scATAnno_integration\n",
    "from scATAnno import scATAnno_plotting\n",
    "\n",
    "import warnings\n",
    "warnings.simplefilter(action='ignore', category=FutureWarning)\n",
    "warnings.simplefilter(action='ignore', category=DeprecationWarning)\n",
    "\n",
    "default_28 = scATAnno_plotting.get_palettes(\"default28\")\n",
    "default_102 = scATAnno_plotting.get_palettes(\"default102\")"
   ]
  },
  {
   "cell_type": "markdown",
   "id": "6778110e",
   "metadata": {},
   "source": [
    "In this tutorial, we apply PBMC reference atlas to PBMC 10K Multiome dataset. The input files are 1) reference atlas in h5ad format; 2) query data in mtx and tsv formats, whose features are aligned with PBMC reference peak. "
   ]
  },
  {
   "cell_type": "markdown",
   "id": "09b5f40e",
   "metadata": {},
   "source": [
    "Download reference data"
   ]
  },
  {
   "cell_type": "code",
   "execution_count": 2,
   "id": "d8201300",
   "metadata": {},
   "outputs": [],
   "source": [
    "# !wget -O PBMC_reference_atlas_final.h5ad \"https://www.dropbox.com/s/y9wc6h5mmydj7gf/PBMC_reference_atlas_final.h5ad?dl=1\""
   ]
  },
  {
   "cell_type": "markdown",
   "id": "6aa6fce2",
   "metadata": {},
   "source": [
    "Download query data, including 1) scATAC (matrix.mtx, features.tsv and barcodes.tsv), features are the reference peak of PBMC reference atlas 2) scRNA (filtered_feature_bc_matrix.h5)"
   ]
  },
  {
   "cell_type": "code",
   "execution_count": 3,
   "id": "6a959036",
   "metadata": {},
   "outputs": [],
   "source": [
    "# !wget -O PBMC10k_multiome_vPBMCatlas.zip \"https://www.dropbox.com/s/3g63m832mbeec4s/PBMC10k_multiome_vPBMCatlas.zip?dl=1\""
   ]
  },
  {
   "cell_type": "markdown",
   "id": "b95e4758",
   "metadata": {},
   "source": [
    "Donwload palette file"
   ]
  },
  {
   "cell_type": "code",
   "execution_count": 4,
   "id": "f7a2c094",
   "metadata": {},
   "outputs": [],
   "source": [
    "# !wget -O reference_palette.pickle \"https://www.dropbox.com/scl/fi/h9gryg9gwdegs8jaob8ga/reference_palette.pickle?rlkey=41zarytshwcowko0r7ndxkiih&st=bxgkyno9&dl=0\""
   ]
  },
  {
   "cell_type": "markdown",
   "id": "9fcc66d6",
   "metadata": {},
   "source": [
    "We load reference atlas data and query data. Reference atlas is stored as h5ad AnnData in the data directory; query data is imported from QuickATAC output."
   ]
  },
  {
   "cell_type": "code",
   "execution_count": 5,
   "id": "48847069",
   "metadata": {},
   "outputs": [],
   "source": [
    "os.chdir(\"scATAnno-main\")\n",
    "\n",
    "output_name = \"PBMC_10K_Multiome\"\n",
    "out_dir = os.path.join(\"scATAnno-main/case_study\", output_name) \n",
    "os.makedirs(out_dir, exist_ok=True)\n",
    "\n",
    "reference_data_path = \"PBMC_reference_atlas_final.h5ad\"\n",
    "reference_data = scATAnno_preprocess.load_reference_data(reference_data_path)\n",
    "query_data = scATAnno_preprocess.import_query_data(path = 'PBMC10k_multiome_vPBMCatlas/scATAC/',\n",
    "                                    mtx_file = 'matrix.mtx.gz',\n",
    "                                    cells_file = 'barcodes.tsv.gz',\n",
    "                                    features_file = 'features.tsv.gz', \n",
    "                                    variable_prefix = \"pbmc10k_query\", \n",
    "                                    celltype_col = \"celltypes\",\n",
    "                                    add_metrics=False)"
   ]
  },
  {
   "cell_type": "markdown",
   "id": "0ae9a348",
   "metadata": {},
   "source": [
    "Before performing integration, we check feature dimensions of the reference and query."
   ]
  },
  {
   "cell_type": "code",
   "execution_count": 6,
   "id": "15122b80",
   "metadata": {},
   "outputs": [
    {
     "name": "stdout",
     "output_type": "stream",
     "text": [
      "AnnData object with n_obs × n_vars = 39441 × 196618\n",
      "    obs: 'celltypes', 'tissue', 'dataset'\n",
      "View of AnnData object with n_obs × n_vars = 11909 × 196618\n",
      "    obs: 'celltypes', 'tissue', 'dataset'\n"
     ]
    }
   ],
   "source": [
    "print(reference_data)\n",
    "print(query_data)\n",
    "assert reference_data.var.shape[0] == query_data.var.shape[0]"
   ]
  },
  {
   "cell_type": "markdown",
   "id": "ae788ef3",
   "metadata": {},
   "source": [
    "We integrate the reference atlas and query data using SnapATAC2 by 1) concatenating two datasets and selecting highly informative \"landmark\" reference cells to compute similarity matrix, normalize the matrix and eigen decompositionand and 2) performing Nystrom extension to project the remaining reference and query cells onto the same spectral embedding space"
   ]
  },
  {
   "cell_type": "code",
   "execution_count": 7,
   "id": "83fbaf75",
   "metadata": {},
   "outputs": [
    {
     "name": "stderr",
     "output_type": "stream",
     "text": [
      "/Users/francis/Desktop/scATAnno-main/scATAnno/SnapATAC2_spectral.py:162: ImplicitModificationWarning: Trying to modify attribute `.var` of view, initializing view as actual.\n",
      "  adata.var[\"selected\"] = selected_features\n"
     ]
    },
    {
     "name": "stdout",
     "output_type": "stream",
     "text": [
      "Compute similarity matrix\n",
      "Normalization\n",
      "Perform decomposition\n",
      "Perform Nystrom extension\n"
     ]
    },
    {
     "name": "stderr",
     "output_type": "stream",
     "text": [
      "100%|███████████████████████████████████████████████████████████████████████████████████████████████████████████████████████████████████████████████████████████████████| 3/3 [13:07<00:00, 262.61s/it]\n"
     ]
    }
   ],
   "source": [
    "# Integrate reference and query data\n",
    "integrated_adata = scATAnno_assignment.scATAnno_integrate(reference_data, query_data, variable_prefix = \"pbmc10k_query\", sample_size = 25000)"
   ]
  },
  {
   "cell_type": "markdown",
   "id": "f30f673e",
   "metadata": {},
   "source": [
    "The following method provides an alternative way to obtain \"integrated_adata\" (the box above). This method uses all reference samples. The time to calculate \"integrated_adata\" drops significantly (as only the \"Perform Nystrom extension\" step is performed) while the accuracy only have a minimal decrease."
   ]
  },
  {
   "cell_type": "code",
   "execution_count": 8,
   "id": "ba8abf3f",
   "metadata": {},
   "outputs": [],
   "source": [
    "# First we need to specify the paths for features and model. These two files were created in scATAnno-main/prep_data/scATAnno-reference-building-example:\n",
    "#feature_file = \"scATAnno-main/model_features.csv\"\n",
    "#model_file =\"scATAnno-main/models_name.model\"\n",
    "\n",
    "\n",
    "# With both feature_file and model_file for our reference, we can project the data from query_data to the reference data in the spectral space:\n",
    "#integrated_adata = scATAnno_assignment.scATAnno_query_projection(reference_data, query_data, feature_file, model_file)\n"
   ]
  },
  {
   "cell_type": "markdown",
   "id": "1d2fe17a",
   "metadata": {},
   "source": [
    "Next, apply harmony to spectral embeddings of integrated data to regress out batch effects indicated in batch_col."
   ]
  },
  {
   "cell_type": "code",
   "execution_count": 9,
   "id": "886cf87b",
   "metadata": {},
   "outputs": [
    {
     "name": "stderr",
     "output_type": "stream",
     "text": [
      "2025-01-07 14:08:49,680 - harmonypy - INFO - Computing initial centroids with sklearn.KMeans...\n",
      "2025-01-07 14:08:49 - INFO - Computing initial centroids with sklearn.KMeans...\n",
      "2025-01-07 14:08:55,510 - harmonypy - INFO - sklearn.KMeans initialization complete.\n",
      "2025-01-07 14:08:55 - INFO - sklearn.KMeans initialization complete.\n",
      "2025-01-07 14:08:55,646 - harmonypy - INFO - Iteration 1 of 20\n",
      "2025-01-07 14:08:55 - INFO - Iteration 1 of 20\n",
      "2025-01-07 14:09:03,728 - harmonypy - INFO - Iteration 2 of 20\n",
      "2025-01-07 14:09:03 - INFO - Iteration 2 of 20\n",
      "2025-01-07 14:09:11,969 - harmonypy - INFO - Iteration 3 of 20\n",
      "2025-01-07 14:09:11 - INFO - Iteration 3 of 20\n",
      "2025-01-07 14:09:20,351 - harmonypy - INFO - Iteration 4 of 20\n",
      "2025-01-07 14:09:20 - INFO - Iteration 4 of 20\n",
      "2025-01-07 14:09:28,430 - harmonypy - INFO - Iteration 5 of 20\n",
      "2025-01-07 14:09:28 - INFO - Iteration 5 of 20\n",
      "2025-01-07 14:09:36,594 - harmonypy - INFO - Converged after 5 iterations\n",
      "2025-01-07 14:09:36 - INFO - Converged after 5 iterations\n"
     ]
    }
   ],
   "source": [
    "# Apply harmony to remove batch effects\n",
    "integrated_adata_harmony = scATAnno_assignment.scATAnno_harmony(integrated_adata, batch_col = \"dataset\")"
   ]
  },
  {
   "cell_type": "code",
   "execution_count": 10,
   "id": "0348d988",
   "metadata": {},
   "outputs": [
    {
     "data": {
      "text/plain": [
       "AnnData object with n_obs × n_vars = 51350 × 196618\n",
       "    obs: 'celltypes', 'tissue', 'dataset'\n",
       "    obsm: 'X_spectral', 'X_spectral_harmony'"
      ]
     },
     "execution_count": 10,
     "metadata": {},
     "output_type": "execute_result"
    }
   ],
   "source": [
    "integrated_adata_harmony"
   ]
  },
  {
   "cell_type": "markdown",
   "id": "577745c5",
   "metadata": {},
   "source": [
    "we then plot UMAP of the integrated data using harmonized spectral embeddings. Optionally, we can save the AnnData object in an output directory."
   ]
  },
  {
   "cell_type": "code",
   "execution_count": 11,
   "id": "ff52f04a",
   "metadata": {},
   "outputs": [
    {
     "name": "stderr",
     "output_type": "stream",
     "text": [
      "/opt/anaconda3/envs/scATAnno/lib/python3.11/site-packages/tqdm/auto.py:21: TqdmWarning: IProgress not found. Please update jupyter and ipywidgets. See https://ipywidgets.readthedocs.io/en/stable/user_install.html\n",
      "  from .autonotebook import tqdm as notebook_tqdm\n",
      "/opt/anaconda3/envs/scATAnno/lib/python3.11/site-packages/umap/umap_.py:1952: UserWarning: n_jobs value 1 overridden to 1 by setting random_state. Use no seed for parallelism.\n",
      "  warn(\n",
      "OMP: Info #276: omp_set_nested routine deprecated, please use omp_set_max_active_levels instead.\n",
      "... storing 'celltypes' as categorical\n",
      "... storing 'tissue' as categorical\n"
     ]
    },
    {
     "data": {
      "text/plain": [
       "AnnData object with n_obs × n_vars = 51350 × 196618\n",
       "    obs: 'celltypes', 'tissue', 'dataset'\n",
       "    obsm: 'X_spectral', 'X_spectral_harmony', 'X_umap'"
      ]
     },
     "execution_count": 11,
     "metadata": {},
     "output_type": "execute_result"
    }
   ],
   "source": [
    "# Plot UMAP using spectral embeddings\n",
    "integrated_adata = scATAnno_assignment.scATAnno_umap(integrated_adata_harmony, out_dir, use_rep = \"X_spectral_harmony\", save = True)\n",
    "integrated_adata"
   ]
  },
  {
   "cell_type": "code",
   "execution_count": 12,
   "id": "50d74cb8",
   "metadata": {},
   "outputs": [
    {
     "name": "stderr",
     "output_type": "stream",
     "text": [
      "... storing 'celltypes' as categorical\n",
      "... storing 'tissue' as categorical\n"
     ]
    },
    {
     "data": {
      "image/png": "[encoded data removed]",
      "text/plain": [
       "<Figure size 600x600 with 1 Axes>"
      ]
     },
     "metadata": {},
     "output_type": "display_data"
    }
   ],
   "source": [
    "scATAnno_plotting.defaultPlotting_umap()\n",
    "sc.pl.umap(integrated_adata, color=\"dataset\", palette = ['#228833', '#cccccc'], show=True, title = \"Integration\")"
   ]
  },
  {
   "cell_type": "markdown",
   "id": "cfc794ce",
   "metadata": {},
   "source": [
    "We investigated cell types in the PBMC reference atlas and re-annotated gamma delta T cell cluster as MAIT cell cluster by showing chromatin accessibility of gene signatures in this cluster. "
   ]
  },
  {
   "cell_type": "markdown",
   "id": "4a82746b",
   "metadata": {},
   "source": [
    "After integration, we want to assign cell types to the query data by taking three steps. First, query cells are assigned labels using K-Nearest neighbors along with KNN-based uncertainty score. Second, query cell labels are corrected using weighted-distance-based uncertainty score. Third, query cells are clustered and annotated at the cluster level."
   ]
  },
  {
   "cell_type": "code",
   "execution_count": null,
   "id": "3e962968",
   "metadata": {},
   "outputs": [],
   "source": [
    "uncertainty_threshold = 0.2\n",
    "distance_threshold = 90\n",
    "reference_label_col = \"celltypes\"\n",
    "use_rep = \"X_spectral_harmony\"\n",
    "atlas = \"PBMC\"\n",
    "\n",
    "integrated_adata = sc.read_h5ad(os.path.join(out_dir, \"1.Merged_query_reference.h5ad\"))\n",
    "integrated_adata = scATAnno_preprocess.add_variable(os.path.join(out_dir, \"X_spectral_harmony.csv\"), integrated_adata)\n",
    "reference = integrated_adata[integrated_adata.obs['dataset'] == \"Atlas\", :].copy()\n",
    "query = integrated_adata[integrated_adata.obs['dataset'] != \"Atlas\",:].copy()\n",
    "# Perform KNN assignment\n",
    "query_KNN = scATAnno_assignment.scATAnno_KNN_assign(reference, query, reference_label_col=reference_label_col, low_dim_col=use_rep)"
   ]
  },
  {
   "cell_type": "code",
   "execution_count": null,
   "id": "f8e26d80",
   "metadata": {},
   "outputs": [],
   "source": [
    "import pickle\n",
    "#with open(os.path.join(out_dir, 'reference_palette.pickle'), 'rb') as handle:\n",
    "with open(('reference_palette.pickle'), 'rb') as handle:\n",
    "    celltype_palette = pickle.load(handle)\n",
    "\n",
    "scATAnno_plotting.defaultPlotting_umap()\n",
    "sc.pl.umap(reference, color=\"celltypes\", palette = celltype_palette, title = \"PBMC Reference Atlas\")"
   ]
  },
  {
   "cell_type": "code",
   "execution_count": null,
   "id": "2f616865",
   "metadata": {},
   "outputs": [],
   "source": [
    "# Perform weighted-distance based assignment\n",
    "query_distance = scATAnno_assignment.scATAnno_distance_assign(reference, query_KNN, reference_label_col=reference_label_col, distance_threshold=distance_threshold, atlas=atlas, uncertainty_threshold=uncertainty_threshold, use_rep = use_rep)"
   ]
  },
  {
   "cell_type": "code",
   "execution_count": null,
   "id": "efe1eac9",
   "metadata": {},
   "outputs": [],
   "source": [
    "# Perform cluster-level assignment\n",
    "query_annotated = scATAnno_assignment.scATAnno_cluster_assign(query_distance, cluster_col = None, use_rep=use_rep)\n",
    "query_annotated"
   ]
  },
  {
   "cell_type": "code",
   "execution_count": null,
   "id": "e0e645df",
   "metadata": {},
   "outputs": [],
   "source": [
    "sc.pl.umap(query_annotated, color = \"cluster_annotation\",palette=celltype_palette, title = \"scATAnno Annotation\")"
   ]
  },
  {
   "cell_type": "markdown",
   "id": "0fa62e52",
   "metadata": {},
   "source": [
    "We benchmark scATAnno results with seurat annotation. Seurat annotation is stored in \"Seurat_RNA_annotation.csv\""
   ]
  },
  {
   "cell_type": "code",
   "execution_count": null,
   "id": "eb6b0a29",
   "metadata": {},
   "outputs": [],
   "source": [
    "seurat_df = pd.read_csv(os.path.join(\"PBMC10k_multiome_vPBMCatlas/\",\"Seurat_RNA_annotation.csv\"), index_col=0)\n",
    "query_annotated = query_annotated[query_annotated.obs.index.isin(seurat_df.index)]\n",
    "query_annotated.obs = pd.merge(query_annotated.obs, seurat_df, left_index=True, right_index=True)\n",
    "query_annotated"
   ]
  },
  {
   "cell_type": "code",
   "execution_count": null,
   "id": "498fc9ce",
   "metadata": {},
   "outputs": [],
   "source": [
    "sc.pl.umap(query_annotated, color = \"seurat_new_annotation\", title = \"Seurat Annotation\", palette = default_28)"
   ]
  },
  {
   "cell_type": "markdown",
   "id": "0bb611a8",
   "metadata": {},
   "source": [
    "Lastly, we compare the annotation results between scATAnno and Seurat."
   ]
  },
  {
   "cell_type": "code",
   "execution_count": null,
   "id": "cfb94af7",
   "metadata": {},
   "outputs": [],
   "source": [
    "outcomes2 = []\n",
    "for i in query_annotated.obs[\"cluster_annotation\"].index:\n",
    "    if query_annotated.obs.loc[i,\"cluster_annotation\"] == query_annotated.obs.loc[i,\"seurat_new_annotation\"]:\n",
    "        outcomes2.append(\"Consistent\")\n",
    "    elif query_annotated.obs.loc[i,\"cluster_annotation\"] == \"unknown\":\n",
    "        outcomes2.append(\"Unknown\")\n",
    "    else: outcomes2.append(\"Inconsistent\")\n",
    "query_annotated.obs[\"outcomes2\"] = outcomes2\n",
    "sc.pl.umap(query_annotated, color = \"outcomes2\", palette= ['#1f77b4','#ff7f0e','#279e68'], title = \"Comparison\")"
   ]
  },
  {
   "cell_type": "code",
   "execution_count": null,
   "id": "2b0365b6",
   "metadata": {},
   "outputs": [],
   "source": [
    "outcomes = []\n",
    "for i in query_annotated.obs[\"cluster_annotation\"].index:\n",
    "    if query_annotated.obs.loc[i,\"cluster_annotation\"] == query_annotated.obs.loc[i,\"seurat_new_annotation\"]:\n",
    "        outcomes.append(\"Consistent\")\n",
    "    else: outcomes.append(\"Inconsistent\")\n",
    "query_annotated.obs[\"outcomes\"] = outcomes\n",
    "\n",
    "adata_query = query_annotated.copy()\n",
    "variable_col = \"cluster_annotation\"\n",
    "outcome_col = \"outcomes\"\n",
    "listdict = []\n",
    "for ct in adata_query.obs[variable_col].unique():\n",
    "    # print(len(adata_query.obs[adata_query.obs['tissue'] == ct]))\n",
    "    tmp_dict = {}\n",
    "    for pt in np.unique(adata_query.obs[outcome_col]):\n",
    "        tmp_dict[pt] = (\n",
    "            np.sum(\n",
    "                adata_query.obs[adata_query.obs[variable_col] == ct][outcome_col] == pt\n",
    "            )\n",
    "            # / len(adata_query.obs[adata_query.obs[variable_col] == ct])\n",
    "        )\n",
    "    l = len(adata_query.obs[adata_query.obs[variable_col] == ct])\n",
    "    tmp_dict['ct'] = f'{ct} ({l})'\n",
    "    tmp_dict['n_cells'] = len(adata_query.obs[adata_query.obs[variable_col] == ct])\n",
    "    listdict.append(tmp_dict)\n",
    "\n",
    "\n",
    "df = pd.DataFrame(listdict).set_index('ct').sort_values(by='ct')\n",
    "df = df.iloc[0:df.shape[0]-1].sort_values(\"n_cells\", ascending=True)\n",
    "print(df)"
   ]
  },
  {
   "cell_type": "code",
   "execution_count": null,
   "id": "ee21a3ff",
   "metadata": {},
   "outputs": [],
   "source": [
    "fig, ax = plt.subplots(1, 1, figsize=(2, 6))\n",
    "df[df.columns[0:len(df.columns)-1]].plot(kind='barh', stacked=True, ax=ax, width=1.0)\n",
    "ax.set_xticklabels(ax.get_xticklabels(), fontsize=15)\n",
    "ax.set_xlabel('Cell Numbers')\n",
    "ax.set_ylabel('')\n",
    "ax.legend(bbox_to_anchor=(1.05, 1), loc=2, borderaxespad=0., frameon=False)\n",
    "ax.grid(False)\n",
    "sns.despine()\n",
    "plt.show()"
   ]
  },
  {
   "cell_type": "code",
   "execution_count": null,
   "id": "1a17f596",
   "metadata": {},
   "outputs": [],
   "source": [
    "query_annotated.obs"
   ]
  },
  {
   "cell_type": "code",
   "execution_count": null,
   "id": "5c50f8fb",
   "metadata": {},
   "outputs": [],
   "source": [
    "query_annotated.write(os.path.join(out_dir, \"query_annotated.h5ad\"))"
   ]
  },
  {
   "cell_type": "markdown",
   "id": "22b2e8a7",
   "metadata": {},
   "source": [
    "To examine B cell subtypes, we leverage scRNA-profile to show signature genes"
   ]
  },
  {
   "cell_type": "code",
   "execution_count": null,
   "id": "7659923a",
   "metadata": {},
   "outputs": [],
   "source": [
    "# Read in scRNA profile\n",
    "RNA_anndata = sc.read_10x_h5(\"PBMC10k_multiome_vPBMCatlas/scRNA/pbmc_granulocyte_sorted_10k_filtered_feature_bc_matrix.h5\")\n",
    "RNA_anndata.obs.index = [ i+ \"_pbmc10k_query\" for i in RNA_anndata.obs.index]\n",
    "RNA_anndata = RNA_anndata[RNA_anndata.obs.index.isin(query_annotated.obs.index)]"
   ]
  },
  {
   "cell_type": "code",
   "execution_count": null,
   "id": "72842b77",
   "metadata": {},
   "outputs": [],
   "source": [
    "RNA_anndata"
   ]
  },
  {
   "cell_type": "code",
   "execution_count": null,
   "id": "f5a6eacf",
   "metadata": {},
   "outputs": [],
   "source": [
    "RNA_anndata.obs = pd.merge(RNA_anndata.obs, query_annotated.obs[[\"cluster_annotation\", \"seurat_new_annotation\"]], left_index=True, right_index=True)\n",
    "UMAP_df = pd.DataFrame(query_annotated.obsm[\"X_umap\"])\n",
    "UMAP_df.index = query_annotated.obs.index\n",
    "UMAP_df.columns = [\"UMAP_1\", \"UMAP_2\"]\n",
    "UMAP_df = UMAP_df.loc[RNA_anndata.obs.index]\n",
    "RNA_anndata.obsm[\"X_umap\"] = np.array(UMAP_df)\n",
    "new_categories = np.unique(query_annotated.obs[\"cluster_annotation\"])\n",
    "RNA_anndata.obs[\"cluster_annotation\"] = RNA_anndata.obs[\"cluster_annotation\"].cat.set_categories(new_categories)"
   ]
  },
  {
   "cell_type": "code",
   "execution_count": null,
   "id": "31c423ea",
   "metadata": {},
   "outputs": [],
   "source": [
    "RNA_anndata.obs"
   ]
  },
  {
   "cell_type": "code",
   "execution_count": null,
   "id": "599f526d",
   "metadata": {},
   "outputs": [],
   "source": [
    "sc.pp.filter_genes(RNA_anndata, min_cells=3)\n",
    "sc.pp.normalize_total(RNA_anndata, target_sum=1e4)\n",
    "sc.pp.log1p(RNA_anndata)\n",
    "sc.pp.highly_variable_genes(RNA_anndata, min_mean=0.0125, max_mean=3, min_disp=0.5)\n",
    "sc.pp.scale(RNA_anndata, max_value=10)\n",
    "RNA_anndata.var_names_make_unique()"
   ]
  },
  {
   "cell_type": "code",
   "execution_count": null,
   "id": "4745b90a",
   "metadata": {},
   "outputs": [],
   "source": [
    "N_col = 2\n",
    "N_row = 2\n",
    "\n",
    "markergenes = [\"CD27\",\"TNFRSF13B\", # memoryB\n",
    "              \"IGHM\", \"TCL1A\", # naive B\n",
    "              ]\n",
    "fig, axes=plt.subplots(nrows= N_row , ncols= N_col , figsize=(N_col*2,N_row*2), \n",
    "                       sharex=True,sharey=True, )\n",
    "for i in range(len(markergenes) ):\n",
    "    i_row = int(i/N_col)\n",
    "    i_col = i%N_col\n",
    "    ax = axes[i_row, i_col]\n",
    "    sc.pl.umap(RNA_anndata, color= markergenes[i], \n",
    "                    title =  markergenes[i],\n",
    "               # title = \"\", \n",
    "               show=False, ax = ax, legend_loc=None,color_map='plasma', colorbar_loc = None, )\n",
    "    ax.set_xlabel('')\n",
    "    ax.set_ylabel('')\n",
    "fig.tight_layout()\n",
    "plt.show()"
   ]
  },
  {
   "cell_type": "markdown",
   "id": "19b35656-02a9-4fac-8862-74cba9c1babe",
   "metadata": {},
   "source": [
    "snap.tl.marker_regions function from snapATAC2 aggregates signal across cells and utilizes z-scores to identify specifically enriched peaks. \n",
    "(https://kzhang.org/SnapATAC2/tutorials/diff.html)"
   ]
  },
  {
   "cell_type": "code",
   "execution_count": null,
   "id": "dca3b3f6-941d-45f8-acf6-8bb40976ffe9",
   "metadata": {},
   "outputs": [],
   "source": [
    "marker_peaks = snap.tl.marker_regions(reference_data, groupby='celltypes', pvalue=0.01)"
   ]
  },
  {
   "cell_type": "markdown",
   "id": "3901f939-3a98-471e-9c3e-f640ef3d424b",
   "metadata": {},
   "source": [
    "Plot cell type specific peaks"
   ]
  },
  {
   "cell_type": "code",
   "execution_count": null,
   "id": "19701cd4-3612-4cca-b3e9-a515d04f80e9",
   "metadata": {},
   "outputs": [],
   "source": [
    "snap.pl.regions(reference_data, groupby='celltypes', peaks=marker_peaks, interactive=False)"
   ]
  },
  {
   "cell_type": "markdown",
   "id": "9a3d8cfb-6a7e-49d6-a8f8-9ecc0e09a5f1",
   "metadata": {},
   "source": [
    "The following outputs cell type specific peaks into separate documents. "
   ]
  },
  {
   "cell_type": "code",
   "execution_count": null,
   "id": "261d982c",
   "metadata": {},
   "outputs": [],
   "source": [
    "for i in range(len(marker_peaks)):\n",
    "    key = list(marker_peaks.keys())[i]\n",
    "    data = marker_peaks[key]\n",
    "    df = pd.DataFrame(data, columns=['peak'])\n",
    "    df.to_csv(f'{key}_peak.csv', index=False)"
   ]
  }
 ],
 "metadata": {
  "kernelspec": {
   "display_name": "Python 3 (ipykernel)",
   "language": "python",
   "name": "python3"
  },
  "language_info": {
   "codemirror_mode": {
    "name": "ipython",
    "version": 3
   },
   "file_extension": ".py",
   "mimetype": "text/x-python",
   "name": "python",
   "nbconvert_exporter": "python",
   "pygments_lexer": "ipython3",
   "version": "3.11.8"
  }
 },
 "nbformat": 4,
 "nbformat_minor": 5
}
